{
 "cells": [
  {
   "cell_type": "code",
   "execution_count": 32,
   "outputs": [
    {
     "name": "stdout",
     "output_type": "stream",
     "text": [
      "average profit/loss for file \"TDQN_0_512neurons_30days.csv\": -58233.00\n",
      "average profit/loss for file \"TDQN_1_512neurons_30days.csv\": 93853.09\n",
      "average profit/loss for file \"TDQN_2_512neurons_30days.csv\": 91957.91\n",
      "average profit/loss for file \"TDRQN_0_512neurons_30days.csv\": -8966045.00\n",
      "average profit/loss for file \"TDRQN_1_512neurons_30days.csv\": -1154464.88\n",
      "average profit/loss for file \"TDRQN_2_512neurons_30days.csv\": -196807.00\n"
     ]
    }
   ],
   "source": [
    "import csv\n",
    "import os\n",
    "import pandas as pd\n",
    "import numpy as np\n",
    "\n",
    "\n",
    "\n",
    "path = './evaluation-results/with context-30days-lookback-512-nodes/Evaluation'\n",
    "for file in os.listdir(path):\n",
    "    if file.endswith('.csv'):\n",
    "        df = pd.read_csv(os.path.join(path, file))\n",
    "        profit_values = np.ndarray.astype(df.values[0][:][2:], np.float32)\n",
    "        print(str.format(\"average profit/loss for file \\\"{file}\\\": {profit:.2f}\", file=file, profit=np.average(profit_values)))"
   ],
   "metadata": {
    "collapsed": false
   }
  },
  {
   "cell_type": "code",
   "execution_count": null,
   "outputs": [],
   "source": [],
   "metadata": {
    "collapsed": false
   }
  }
 ],
 "metadata": {
  "kernelspec": {
   "display_name": "Python 3",
   "language": "python",
   "name": "python3"
  },
  "language_info": {
   "codemirror_mode": {
    "name": "ipython",
    "version": 2
   },
   "file_extension": ".py",
   "mimetype": "text/x-python",
   "name": "python",
   "nbconvert_exporter": "python",
   "pygments_lexer": "ipython2",
   "version": "2.7.6"
  }
 },
 "nbformat": 4,
 "nbformat_minor": 0
}
